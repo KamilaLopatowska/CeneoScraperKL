{
 "cells": [
  {
   "cell_type": "markdown",
   "metadata": {},
   "source": [
    "# Ceneo Scraper"
   ]
  },
  {
   "cell_type": "markdown",
   "metadata": {},
   "source": [
    "### Struktura pojedynczej opinii w serwisie Ceneo.pl\n",
    "\n",
    "|Składowa|Selektor|Zmienna|\n",
    "|--------|--------|-------|\n",
    "|id opinii|[\"data-entry-id\"]|opinion_id|\n",
    "|autor|span.user-post__author-name|author|\n",
    "|rekomendacje|span.user-post__author-recomendation > em|recommendation|\n",
    "|gwiazdki|span.user-post__score-count|rating|\n",
    "|treść|div.user-post__text|content|\n",
    "|lista zalet|div.review-feature__title--positives ~ div.review-feature_item|pros|\n",
    "|lista wad|div.review-feature__title--negatives ~ div.review-feature_item|cons|\n",
    "|dla ilu przydatna|span[id^=\"votes_yes\"]|useful|\n",
    "|dla ilu nieprzydatna|span[id^=\"votes_no\"]|useless|\n",
    "|data wystawienia|span.user-post__published > time:nth-child(1)[\"datetime\"]|post_date|\n",
    "|data zakupu|span.user-post__published > time:nth-child(2)[\"datetime\"]|purchase_date|\n"
   ]
  },
  {
   "cell_type": "markdown",
   "metadata": {},
   "source": [
    "## Biblioteki"
   ]
  },
  {
   "cell_type": "code",
   "execution_count": 37,
   "metadata": {},
   "outputs": [],
   "source": [
    "import os\n",
    "import json\n",
    "import requests\n",
    "from bs4 import BeautifulSoup"
   ]
  },
  {
   "cell_type": "code",
   "execution_count": 38,
   "metadata": {},
   "outputs": [],
   "source": [
    "def extract(ancestor, selector=None, attribute=None, returns_list=False):\n",
    "    if selector:\n",
    "        if returns_list:\n",
    "            if attribute:\n",
    "                return [tag[attribute].strip() for tag in ancestor.select(selector)]\n",
    "            return [tag.get_text().strip() for tag in ancestor.select(selector)]\n",
    "        if attribute:\n",
    "            try:\n",
    "                return ancestor.select_one(selector)[attribute].strip()\n",
    "            except TypeError:\n",
    "                return None\n",
    "        try:\n",
    "            return ancestor.select_one(selector).get_text().strip()\n",
    "        except AttributeError:\n",
    "            return None\n",
    "    if attribute:\n",
    "        return ancestor[attribute].strip()\n",
    "    return ancestor.get_text().strip()"
   ]
  },
  {
   "cell_type": "code",
   "execution_count": 39,
   "metadata": {},
   "outputs": [],
   "source": [
    "selectors = {\n",
    "                \"opinion_id\": (None, \"data-entry-id\"),\n",
    "                \"author\": (\"span.user-post__author-name\",),\n",
    "                \"recommendation\": (\"span.user-post__author-recomendation > em\",),\n",
    "                \"rating\": (\"span.user-post__score-count\",),\n",
    "                \"content\": (\"div.user-post__text\",),\n",
    "                \"pros\": (\"div.review-feature__title--positives ~ div.review-feature__item\", None, True),\n",
    "                \"cons\": (\"div.review-feature__title--negatives ~ div.review-feature__item\", None, True),\n",
    "                \"useful\": (\"span[id^='votes-yes']\",),\n",
    "                \"useless\": (\"span[id^='votes-no']\",),\n",
    "                \"post_date\": (\"span.user-post__published > time:nth-child(1)\",\"datetime\",),\n",
    "                \"purchase_date\": (\"span.user-post__published > time:nth-child(2)\",\"datetime\",)\n",
    "            }"
   ]
  },
  {
   "cell_type": "markdown",
   "metadata": {},
   "source": [
    "## Wysłanie żądania dostępu do zasobu do serwera"
   ]
  },
  {
   "cell_type": "code",
   "execution_count": 40,
   "metadata": {},
   "outputs": [],
   "source": [
    "product_id = \"114700014\"\n",
    "url = f'https://www.ceneo.pl/{product_id}/opinie-1'\n"
   ]
  },
  {
   "cell_type": "code",
   "execution_count": 41,
   "metadata": {},
   "outputs": [
    {
     "name": "stdout",
     "output_type": "stream",
     "text": [
      "https://www.ceneo.pl/114700014/opinie-1\n",
      "https://www.ceneo.pl/114700014/opinie-2\n",
      "https://www.ceneo.pl/114700014/opinie-3\n",
      "https://www.ceneo.pl/114700014/opinie-4\n",
      "https://www.ceneo.pl/114700014/opinie-5\n",
      "https://www.ceneo.pl/114700014/opinie-6\n",
      "https://www.ceneo.pl/114700014/opinie-7\n",
      "https://www.ceneo.pl/114700014/opinie-8\n",
      "https://www.ceneo.pl/114700014/opinie-9\n",
      "https://www.ceneo.pl/114700014/opinie-10\n",
      "https://www.ceneo.pl/114700014/opinie-11\n",
      "https://www.ceneo.pl/114700014/opinie-12\n",
      "https://www.ceneo.pl/114700014/opinie-13\n",
      "https://www.ceneo.pl/114700014/opinie-14\n",
      "https://www.ceneo.pl/114700014/opinie-15\n",
      "https://www.ceneo.pl/114700014/opinie-16\n",
      "https://www.ceneo.pl/114700014/opinie-17\n",
      "https://www.ceneo.pl/114700014/opinie-18\n"
     ]
    }
   ],
   "source": [
    "all_opinions = []\n",
    "while (url):\n",
    "    response = requests.get(url)\n",
    "    page_dom = BeautifulSoup(response.text, \"html.parser\")\n",
    "    opinions = page_dom.select(\"div.js_product-review\")\n",
    "    for opinion in opinions:\n",
    "        single_opinion = {\n",
    "            key:extract(opinion, *value)\n",
    "                for key, value in selectors.items()\n",
    "        }\n",
    "        all_opinions.append(single_opinion)\n",
    "    try:\n",
    "        url = \"https://www.ceneo.pl\"+extract(page_dom ,\"a.pagination__next\", \"href\")\n",
    "    except TypeError:\n",
    "        url = None"
   ]
  },
  {
   "cell_type": "code",
   "execution_count": 42,
   "metadata": {},
   "outputs": [],
   "source": [
    "if not os.path.exists(\"opinions\"):\n",
    "    os.mkdir(\"opinions\")\n",
    "with open(f\"opinions/{product_id}.json\", \"w\", encoding=\"UTF-8\") as jf:\n",
    "    json.dump(all_opinions, jf, indent=4, ensure_ascii=False)"
   ]
  },
  {
   "cell_type": "code",
   "execution_count": 43,
   "metadata": {},
   "outputs": [
    {
     "data": {
      "text/plain": [
       "180"
      ]
     },
     "execution_count": 43,
     "metadata": {},
     "output_type": "execute_result"
    }
   ],
   "source": [
    "len(all_opinions)"
   ]
  }
 ],
 "metadata": {
  "kernelspec": {
   "display_name": ".venv",
   "language": "python",
   "name": "python3"
  },
  "language_info": {
   "codemirror_mode": {
    "name": "ipython",
    "version": 3
   },
   "file_extension": ".py",
   "mimetype": "text/x-python",
   "name": "python",
   "nbconvert_exporter": "python",
   "pygments_lexer": "ipython3",
   "version": "3.12.2"
  }
 },
 "nbformat": 4,
 "nbformat_minor": 2
}
